{
 "cells": [
  {
   "cell_type": "code",
   "execution_count": 1,
   "metadata": {},
   "outputs": [],
   "source": [
    "import pandas as pd\n",
    "import numpy as np"
   ]
  },
  {
   "cell_type": "code",
   "execution_count": 2,
   "metadata": {},
   "outputs": [],
   "source": [
    "df = pd.read_csv('/Users/anhducduong/Documents/GitHub/MainPipelineRepo/SelfReports_backup.csv').copy()"
   ]
  },
  {
   "cell_type": "code",
   "execution_count": null,
   "metadata": {},
   "outputs": [],
   "source": [
    "df = df[(df['valence'] != 'NONE') & (df['arousal'] != 'NONE') & (df['context'] != 'NONE')]"
   ]
  },
  {
   "cell_type": "code",
   "execution_count": 4,
   "metadata": {},
   "outputs": [
    {
     "data": {
      "text/html": [
       "<div>\n",
       "<style scoped>\n",
       "    .dataframe tbody tr th:only-of-type {\n",
       "        vertical-align: middle;\n",
       "    }\n",
       "\n",
       "    .dataframe tbody tr th {\n",
       "        vertical-align: top;\n",
       "    }\n",
       "\n",
       "    .dataframe thead th {\n",
       "        text-align: right;\n",
       "    }\n",
       "</style>\n",
       "<table border=\"1\" class=\"dataframe\">\n",
       "  <thead>\n",
       "    <tr style=\"text-align: right;\">\n",
       "      <th></th>\n",
       "      <th>id</th>\n",
       "      <th>participantId</th>\n",
       "      <th>timeOfNotification</th>\n",
       "      <th>timeOfEngagement</th>\n",
       "      <th>timeOfContext</th>\n",
       "      <th>timeOfValence</th>\n",
       "      <th>timeOfArousal</th>\n",
       "    </tr>\n",
       "  </thead>\n",
       "  <tbody>\n",
       "    <tr>\n",
       "      <th>count</th>\n",
       "      <td>330.000000</td>\n",
       "      <td>330.000000</td>\n",
       "      <td>3.300000e+02</td>\n",
       "      <td>3.300000e+02</td>\n",
       "      <td>3.300000e+02</td>\n",
       "      <td>3.300000e+02</td>\n",
       "      <td>3.300000e+02</td>\n",
       "    </tr>\n",
       "    <tr>\n",
       "      <th>mean</th>\n",
       "      <td>239.027273</td>\n",
       "      <td>24.957576</td>\n",
       "      <td>3.709754e+06</td>\n",
       "      <td>3.732850e+06</td>\n",
       "      <td>3.756039e+06</td>\n",
       "      <td>3.741754e+06</td>\n",
       "      <td>3.746834e+06</td>\n",
       "    </tr>\n",
       "    <tr>\n",
       "      <th>std</th>\n",
       "      <td>129.354403</td>\n",
       "      <td>12.006509</td>\n",
       "      <td>2.352921e+06</td>\n",
       "      <td>2.354681e+06</td>\n",
       "      <td>2.352088e+06</td>\n",
       "      <td>2.354137e+06</td>\n",
       "      <td>2.353247e+06</td>\n",
       "    </tr>\n",
       "    <tr>\n",
       "      <th>min</th>\n",
       "      <td>1.000000</td>\n",
       "      <td>1.000000</td>\n",
       "      <td>3.609550e+05</td>\n",
       "      <td>3.730460e+05</td>\n",
       "      <td>3.936860e+05</td>\n",
       "      <td>3.809310e+05</td>\n",
       "      <td>3.868330e+05</td>\n",
       "    </tr>\n",
       "    <tr>\n",
       "      <th>25%</th>\n",
       "      <td>124.250000</td>\n",
       "      <td>15.000000</td>\n",
       "      <td>1.716907e+06</td>\n",
       "      <td>1.741199e+06</td>\n",
       "      <td>1.755281e+06</td>\n",
       "      <td>1.747878e+06</td>\n",
       "      <td>1.750992e+06</td>\n",
       "    </tr>\n",
       "    <tr>\n",
       "      <th>50%</th>\n",
       "      <td>245.500000</td>\n",
       "      <td>26.500000</td>\n",
       "      <td>3.473534e+06</td>\n",
       "      <td>3.481028e+06</td>\n",
       "      <td>3.500046e+06</td>\n",
       "      <td>3.486774e+06</td>\n",
       "      <td>3.489341e+06</td>\n",
       "    </tr>\n",
       "    <tr>\n",
       "      <th>75%</th>\n",
       "      <td>349.750000</td>\n",
       "      <td>35.000000</td>\n",
       "      <td>5.590468e+06</td>\n",
       "      <td>5.608023e+06</td>\n",
       "      <td>5.630510e+06</td>\n",
       "      <td>5.614254e+06</td>\n",
       "      <td>5.628624e+06</td>\n",
       "    </tr>\n",
       "    <tr>\n",
       "      <th>max</th>\n",
       "      <td>462.000000</td>\n",
       "      <td>44.000000</td>\n",
       "      <td>9.170759e+06</td>\n",
       "      <td>9.187921e+06</td>\n",
       "      <td>9.212255e+06</td>\n",
       "      <td>9.203547e+06</td>\n",
       "      <td>9.207313e+06</td>\n",
       "    </tr>\n",
       "  </tbody>\n",
       "</table>\n",
       "</div>"
      ],
      "text/plain": [
       "               id  participantId  timeOfNotification  timeOfEngagement  \\\n",
       "count  330.000000     330.000000        3.300000e+02      3.300000e+02   \n",
       "mean   239.027273      24.957576        3.709754e+06      3.732850e+06   \n",
       "std    129.354403      12.006509        2.352921e+06      2.354681e+06   \n",
       "min      1.000000       1.000000        3.609550e+05      3.730460e+05   \n",
       "25%    124.250000      15.000000        1.716907e+06      1.741199e+06   \n",
       "50%    245.500000      26.500000        3.473534e+06      3.481028e+06   \n",
       "75%    349.750000      35.000000        5.590468e+06      5.608023e+06   \n",
       "max    462.000000      44.000000        9.170759e+06      9.187921e+06   \n",
       "\n",
       "       timeOfContext  timeOfValence  timeOfArousal  \n",
       "count   3.300000e+02   3.300000e+02   3.300000e+02  \n",
       "mean    3.756039e+06   3.741754e+06   3.746834e+06  \n",
       "std     2.352088e+06   2.354137e+06   2.353247e+06  \n",
       "min     3.936860e+05   3.809310e+05   3.868330e+05  \n",
       "25%     1.755281e+06   1.747878e+06   1.750992e+06  \n",
       "50%     3.500046e+06   3.486774e+06   3.489341e+06  \n",
       "75%     5.630510e+06   5.614254e+06   5.628624e+06  \n",
       "max     9.212255e+06   9.203547e+06   9.207313e+06  "
      ]
     },
     "execution_count": 4,
     "metadata": {},
     "output_type": "execute_result"
    }
   ],
   "source": [
    "df.describe()"
   ]
  },
  {
   "cell_type": "code",
   "execution_count": 5,
   "metadata": {},
   "outputs": [],
   "source": [
    "df.to_csv('Cleaned_Selfreports.csv', index=False)"
   ]
  }
 ],
 "metadata": {
  "kernelspec": {
   "display_name": ".venv",
   "language": "python",
   "name": "python3"
  },
  "language_info": {
   "codemirror_mode": {
    "name": "ipython",
    "version": 3
   },
   "file_extension": ".py",
   "mimetype": "text/x-python",
   "name": "python",
   "nbconvert_exporter": "python",
   "pygments_lexer": "ipython3",
   "version": "3.13.0"
  }
 },
 "nbformat": 4,
 "nbformat_minor": 2
}
